{
  "cells": [
    {
      "cell_type": "markdown",
      "metadata": {
        "id": "view-in-github",
        "colab_type": "text"
      },
      "source": [
        "<a href=\"https://colab.research.google.com/github/CMU-MS-DAS-Modern-Programming-Mini/fall2022-homework-4/blob/master/Homework_4_Netflix_and_plotting.ipynb\" target=\"_parent\"><img src=\"https://colab.research.google.com/assets/colab-badge.svg\" alt=\"Open In Colab\"/></a>"
      ]
    },
    {
      "cell_type": "markdown",
      "metadata": {
        "id": "9CbB781STQuf"
      },
      "source": [
        "# Netflix Dataset Latest 2021\n",
        "\n",
        "<img src=\"https://external-content.duckduckgo.com/iu/?u=https%3A%2F%2Fwww.techdaily.com.au%2Fb2%2Fwp-content%2Fuploads%2F2015%2F03%2FNetflix_Logo_Print_FourColorCMYK.png&f=1&nofb=1\" width=\"50%\" />\n",
        "\n",
        "Name:\n",
        "\n",
        "Andrew ID:"
      ]
    },
    {
      "cell_type": "code",
      "execution_count": null,
      "metadata": {
        "id": "UV3NCTGmTOnV"
      },
      "outputs": [],
      "source": [
        "import pandas as pd\n",
        "from google.colab import drive\n",
        "drive.mount('/content/drive')\n",
        "\n",
        "#https://www.kaggle.com/datasets/syedmubarak/netflix-dataset-latest-2021\n",
        "filename = '/content/drive/My Drive/38610/datasets/Netflix Dataset Latest 2021.xlsx'\n",
        "df = pd.read_excel( filename )\n",
        "\n",
        "df"
      ]
    },
    {
      "cell_type": "markdown",
      "metadata": {
        "id": "Yp51i_4q2jVY"
      },
      "source": [
        "## Exercise\n",
        "Use matplotlib, seaborn, plotly or any other library you think works best.\n",
        "\n",
        "1. Pie chart. Use the `Languages` column to create a pie chart. This exercise is free-form. Present the data as you think its best."
      ]
    },
    {
      "cell_type": "code",
      "execution_count": null,
      "metadata": {
        "id": "VtRjZWUnhHMh"
      },
      "outputs": [],
      "source": [
        "#INSERT CODE HERE"
      ]
    },
    {
      "cell_type": "markdown",
      "metadata": {
        "id": "7idxMiLohHT0"
      },
      "source": [
        "2. Vertical bar chart. Use the `Genre` column to create a vertical bar chart. This exercise is free-form. Present the data as you think its best. However I think it might look nicer if you sort the bars by size?"
      ]
    },
    {
      "cell_type": "code",
      "execution_count": null,
      "metadata": {
        "id": "l0mawLEahHa9"
      },
      "outputs": [],
      "source": [
        "#INSERT CODE HERE"
      ]
    },
    {
      "cell_type": "markdown",
      "metadata": {
        "id": "GHKfr483hHjs"
      },
      "source": [
        "3. Worldmap. Use the `Country Availability` to extract a list of all countries. Then use this information to create a heatmap to show which countries have the most available movies and TV shows."
      ]
    },
    {
      "cell_type": "code",
      "execution_count": null,
      "metadata": {
        "id": "AM2emogqhHr2"
      },
      "outputs": [],
      "source": [
        "#INSERT CODE HERE"
      ]
    },
    {
      "cell_type": "markdown",
      "metadata": {
        "id": "CBr-ZoL5hHzL"
      },
      "source": [
        "## Bonus\n",
        "Get an **extra point** that counts toward the homeworks by recreating this funny meme I was shown when I was telling a colleague about this homework. \n",
        "\n",
        "Use any library.\n",
        "\n",
        "![image.png](https://preview.redd.it/dhey2chrnxb21.jpg?auto=webp&s=d0d855940322c6adaa83a6f7f5544abda32fb5d2)"
      ]
    },
    {
      "cell_type": "code",
      "execution_count": null,
      "metadata": {
        "id": "uUuTR2R6lAe4"
      },
      "outputs": [],
      "source": [
        "#INSERT CODE HERE"
      ]
    }
  ],
  "metadata": {
    "colab": {
      "provenance": [],
      "include_colab_link": true
    },
    "kernelspec": {
      "display_name": "Python 3 (ipykernel)",
      "language": "python",
      "name": "python3"
    },
    "language_info": {
      "codemirror_mode": {
        "name": "ipython",
        "version": 3
      },
      "file_extension": ".py",
      "mimetype": "text/x-python",
      "name": "python",
      "nbconvert_exporter": "python",
      "pygments_lexer": "ipython3",
      "version": "3.9.7"
    }
  },
  "nbformat": 4,
  "nbformat_minor": 0
}